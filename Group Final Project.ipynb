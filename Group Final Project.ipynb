{
 "cells": [
  {
   "cell_type": "markdown",
   "id": "67cb0b06-220d-4df2-8b13-eeb3b5a29ee0",
   "metadata": {
    "tags": []
   },
   "source": [
    "# Maternal Health Risk Assessment: A Comprehensive Model of Predictive Factors\n",
    "\n",
    "### Introduction:\n",
    "\n",
    "Maternal mortality is a major concern for the UN's sustainable development goals, with already 287,000 women dying in 2020 alone. Recognizing the gravity of this issue, there is a palpable urgency to employ innovative approaches for mitigation. A potential avenue of impactful intervention lies in the development of a predictive model. This model holds the potential to discern high-risk patients among pregnant women, thereby empowering healthcare providers to allocate resources to enhance the likelihood of successful outcomes for both mothers and their newborns. This is why in this report we will answer the question: Can we determine, with precision, whether a pregnant woman faces low, medium, or high maternal health risk based on key variables such as age, systolic blood pressure, diastolic blood pressure, blood glucose, body temperature, and heart rate? To answer this question, this report uses as its foundation a dataset gathered from 1013 pregnant women. This dataset represents a diverse cross-section, sourced from hospitals, clinics, and maternal health care centers embedded in the rural landscapes of Bangladesh. Each data point encapsulates the variables of interest, forming the basis for our robust predictive model. The dataset contains overall 7 columns for: age, systolic blood pressure, diastolic blood pressure, blood glucose (BS), body temperature, heart rate, and the risk classification. Age is given in years, systolic and diastolic blood pressure in mmHg, blood glucose in mmol/L, body temperature in degrees Fahrenheit, heart rate in bpm, and risk level as a categorical variables for three classifications: low risk, medium risk, and high risk. "
   ]
  },
  {
   "cell_type": "markdown",
   "id": "27be94ec-c982-49c8-a907-9ab0a888ab53",
   "metadata": {},
   "source": [
    "#### Methods & Results"
   ]
  },
  {
   "cell_type": "markdown",
   "id": "47afd6d1-72b0-4783-9310-9e7e95d2875d",
   "metadata": {},
   "source": [
    "#### reminder for codes(delete later)"
   ]
  },
  {
   "cell_type": "markdown",
   "id": "2ffe662b-ddc0-4c64-95f7-a2ea6da69fb6",
   "metadata": {},
   "source": [
    "#### Discussion"
   ]
  },
  {
   "cell_type": "markdown",
   "id": "a733da9c-a6e0-46d9-a2b2-0997568f75a4",
   "metadata": {},
   "source": [
    "#### Reference"
   ]
  }
 ],
 "metadata": {
  "kernelspec": {
   "display_name": "R",
   "language": "R",
   "name": "ir"
  },
  "language_info": {
   "codemirror_mode": "r",
   "file_extension": ".r",
   "mimetype": "text/x-r-source",
   "name": "R",
   "pygments_lexer": "r",
   "version": "4.2.2"
  }
 },
 "nbformat": 4,
 "nbformat_minor": 5
}
