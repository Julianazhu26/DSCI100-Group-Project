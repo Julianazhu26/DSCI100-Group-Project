{
 "cells": [
  {
   "cell_type": "markdown",
   "id": "67cb0b06-220d-4df2-8b13-eeb3b5a29ee0",
   "metadata": {},
   "source": [
    "# Maternal Health Risk Assessment: A Comprehensive Model of Predictive Factors\n",
    "\n",
    "### Introduction:\n"
   ]
  },
  {
   "cell_type": "markdown",
   "id": "27be94ec-c982-49c8-a907-9ab0a888ab53",
   "metadata": {},
   "source": [
    "#### Methods & Results"
   ]
  },
  {
   "cell_type": "markdown",
   "id": "47afd6d1-72b0-4783-9310-9e7e95d2875d",
   "metadata": {},
   "source": [
    "#### reminder for codes(delete later)"
   ]
  },
  {
   "cell_type": "markdown",
   "id": "2ffe662b-ddc0-4c64-95f7-a2ea6da69fb6",
   "metadata": {},
   "source": [
    "#### Discussion"
   ]
  },
  {
   "cell_type": "markdown",
   "id": "a733da9c-a6e0-46d9-a2b2-0997568f75a4",
   "metadata": {},
   "source": [
    "#### Reference"
   ]
  }
 ],
 "metadata": {
  "kernelspec": {
   "display_name": "R",
   "language": "R",
   "name": "ir"
  },
  "language_info": {
   "codemirror_mode": "r",
   "file_extension": ".r",
   "mimetype": "text/x-r-source",
   "name": "R",
   "pygments_lexer": "r",
   "version": "4.2.2"
  }
 },
 "nbformat": 4,
 "nbformat_minor": 5
}
