{
 "cells": [
  {
   "cell_type": "markdown",
   "id": "67cb0b06-220d-4df2-8b13-eeb3b5a29ee0",
   "metadata": {
    "tags": []
   },
   "source": [
    "# Maternal Health Risk Assessment: A Comprehensive Model of Predictive Factors\n",
    "\n",
    "### Introduction:\n",
    "\n",
    "Maternal mortality is a major concern for the UN's sustainable development goals, with already 287,000 women dying in 2020 alone. Recognizing the gravity of this issue, there is a palpable urgency to employ innovative approaches for mitigation. A potential avenue of impactful intervention lies in the development of a predictive model. This model holds the potential to discern high-risk patients among pregnant women, thereby empowering healthcare providers to allocate resources to enhance the likelihood of successful outcomes for both mothers and their newborns. This is why in this report we will answer the question: Can we determine, with precision, whether a pregnant woman faces low, medium, or high maternal health risk based on key variables such as age, systolic blood pressure, diastolic blood pressure, blood glucose, body temperature, and heart rate? To answer this question, this report uses as its foundation a dataset gathered from 1013 pregnant women. This dataset represents a diverse cross-section, sourced from hospitals, clinics, and maternal health care centers embedded in the rural landscapes of Bangladesh. Each data point encapsulates the variables of interest, forming the basis for our robust predictive model. The dataset contains overall 7 columns for: age, systolic blood pressure, diastolic blood pressure, blood glucose (BS), body temperature, heart rate, and the risk classification. Age is given in years, systolic and diastolic blood pressure in mmHg, blood glucose in mmol/L, body temperature in degrees Fahrenheit, heart rate in bpm, and risk level as a categorical variables for three classifications: low risk, medium risk, and high risk. "
   ]
  },
  {
   "cell_type": "markdown",
   "id": "27be94ec-c982-49c8-a907-9ab0a888ab53",
   "metadata": {},
   "source": [
    "#### Methods & Results\n",
    "\n",
    "Data selection:\n",
    "\n",
    "Based on the data analysis, it has become apparent that the temperature variable does not significantly contribute to distinguishing between high, medium and low-risk patients. The temperature remains within the same range for all risk groups. Therefore, it would be misleading to consider temperature as a crucial factor in determining whether a pregnant woman is at high/medium/low risk. \n",
    "In alignment with our data analysis, our decision to exclude temperature as a significant variable in determining maternal health risk is supported by a complementary study conducted by Marzia Ahmed and Mohammod Abul Kashem from the Department of Software Engineering at Daffodil International University and the Department of Computer Science and Engineering at Dhaka University of Science and Technology, respectively. Their work utilized a significance ranking system to assess the influence of the factors (age, systolic blood pressure, diastolic blood pressure, blood glucose (BS), body temperature, and heart rate) on risk classification as shown in Figure 1:\n",
    "\n",
    "\n",
    "IMAGE\n",
    "\n",
    "\n",
    "According to their findings, blood sugar (BS) emerged as the most influential risk factor in pregnancy, “Especially the mother affected by diabetes is considerably more responsible about three times higher than Blood Pressure and other factors” (Ahmed & Kashem, 2020). Notably, their analysis, rooted in the context of decision trees and entropy, indicated that temperature had a comparatively lower influence over the risk classification. \n",
    "In light of this corroborating evidence, our decision to exclude temperature from our risk assessment model aligns with the observed minimal impact of temperature on distinguishing between high, medium, and low-risk patients in our dataset. The temperature variable, remaining within the same range across all risk groups, lacks the discriminatory power demonstrated by other variables, such as blood sugar and blood pressure, as elucidated by Ahmed and Kashem's comprehensive analysis."
   ]
  },
  {
   "cell_type": "markdown",
   "id": "47afd6d1-72b0-4783-9310-9e7e95d2875d",
   "metadata": {},
   "source": [
    "#### reminder for codes(delete later)"
   ]
  },
  {
   "cell_type": "markdown",
   "id": "2ffe662b-ddc0-4c64-95f7-a2ea6da69fb6",
   "metadata": {},
   "source": [
    "#### Discussion"
   ]
  },
  {
   "cell_type": "markdown",
   "id": "a733da9c-a6e0-46d9-a2b2-0997568f75a4",
   "metadata": {},
   "source": [
    "#### Reference"
   ]
  }
 ],
 "metadata": {
  "kernelspec": {
   "display_name": "R",
   "language": "R",
   "name": "ir"
  },
  "language_info": {
   "codemirror_mode": "r",
   "file_extension": ".r",
   "mimetype": "text/x-r-source",
   "name": "R",
   "pygments_lexer": "r",
   "version": "4.2.2"
  }
 },
 "nbformat": 4,
 "nbformat_minor": 5
}
