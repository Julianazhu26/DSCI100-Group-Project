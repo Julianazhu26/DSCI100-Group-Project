{
 "cells": [
  {
   "cell_type": "markdown",
   "id": "67cb0b06-220d-4df2-8b13-eeb3b5a29ee0",
   "metadata": {
    "tags": []
   },
   "source": [
    "# Maternal Health Risk Assessment: A Comprehensive Model of Predictive Factors\n",
    "\n",
    "### Introduction:\n",
    "\n",
    "Maternal mortality is a major concern for the UN's sustainable development goals, with already 287,000 women dying in 2020 alone. Recognizing the gravity of this issue, there is a palpable urgency to employ innovative approaches for mitigation. A potential avenue of impactful intervention lies in the development of a predictive model. This model holds the potential to discern high-risk patients among pregnant women, thereby empowering healthcare providers to allocate resources to enhance the likelihood of successful outcomes for both mothers and their newborns. This is why in this report we will answer the question: Can we determine, with precision, whether a pregnant woman faces low, medium, or high maternal health risk based on key variables such as age, systolic blood pressure, diastolic blood pressure, blood glucose, body temperature, and heart rate? To answer this question, this report uses as its foundation a dataset gathered from 1013 pregnant women. This dataset represents a diverse cross-section, sourced from hospitals, clinics, and maternal health care centers embedded in the rural landscapes of Bangladesh. Each data point encapsulates the variables of interest, forming the basis for our robust predictive model. The dataset contains overall 7 columns for: age, systolic blood pressure, diastolic blood pressure, blood glucose (BS), body temperature, heart rate, and the risk classification. Age is given in years, systolic and diastolic blood pressure in mmHg, blood glucose in mmol/L, body temperature in degrees Fahrenheit, heart rate in bpm, and risk level as a categorical variables for three classifications: low risk, medium risk, and high risk. "
   ]
  },
  {
   "cell_type": "markdown",
   "id": "27be94ec-c982-49c8-a907-9ab0a888ab53",
   "metadata": {},
   "source": [
    "#### Methods & Results\n",
    "\n",
    "Data analysis\n",
    "\n",
    "We are reading the dataset from UCI Machine Learning Repository from the Web to R with the following steps. In summary, we need to download the file, unzip, give it a new name and read the first 6 rows.\n",
    "\n",
    "Data selection:\n",
    "\n",
    "Based on the data analysis, it has become apparent that the temperature variable does not significantly contribute to distinguishing between high, medium and low-risk patients. The temperature remains within the same range for all risk groups. Therefore, it would be misleading to consider temperature as a crucial factor in determining whether a pregnant woman is at high/medium/low risk. \n",
    "In alignment with our data analysis, our decision to exclude temperature as a significant variable in determining maternal health risk is supported by a complementary study conducted by Marzia Ahmed and Mohammod Abul Kashem from the Department of Software Engineering at Daffodil International University and the Department of Computer Science and Engineering at Dhaka University of Science and Technology, respectively. Their work utilized a significance ranking system to assess the influence of the factors (age, systolic blood pressure, diastolic blood pressure, blood glucose (BS), body temperature, and heart rate) on risk classification as shown in Figure 1:\n",
    "\n",
    "\n",
    "IMAGE\n",
    "\n",
    "\n",
    "According to their findings, blood sugar (BS) emerged as the most influential risk factor in pregnancy, “Especially the mother affected by diabetes is considerably more responsible about three times higher than Blood Pressure and other factors” (Ahmed & Kashem, 2020). Notably, their analysis, rooted in the context of decision trees and entropy, indicated that temperature had a comparatively lower influence over the risk classification. \n",
    "In light of this corroborating evidence, our decision to exclude temperature from our risk assessment model aligns with the observed minimal impact of temperature on distinguishing between high, medium, and low-risk patients in our dataset. The temperature variable, remaining within the same range across all risk groups, lacks the discriminatory power demonstrated by other variables, such as blood sugar and blood pressure, as elucidated by Ahmed and Kashem's comprehensive analysis."
   ]
  },
  {
   "cell_type": "code",
   "execution_count": 1,
   "id": "02bb6a8d-013c-48ee-a666-7577f66028ae",
   "metadata": {
    "tags": []
   },
   "outputs": [
    {
     "data": {
      "text/html": [
       "<table class=\"dataframe\">\n",
       "<caption>A data.frame: 6 × 7</caption>\n",
       "<thead>\n",
       "\t<tr><th></th><th scope=col>Age</th><th scope=col>SystolicBP</th><th scope=col>DiastolicBP</th><th scope=col>BS</th><th scope=col>BodyTemp</th><th scope=col>HeartRate</th><th scope=col>RiskLevel</th></tr>\n",
       "\t<tr><th></th><th scope=col>&lt;int&gt;</th><th scope=col>&lt;int&gt;</th><th scope=col>&lt;int&gt;</th><th scope=col>&lt;dbl&gt;</th><th scope=col>&lt;dbl&gt;</th><th scope=col>&lt;int&gt;</th><th scope=col>&lt;chr&gt;</th></tr>\n",
       "</thead>\n",
       "<tbody>\n",
       "\t<tr><th scope=row>1</th><td>25</td><td>130</td><td>80</td><td>15.00</td><td> 98</td><td>86</td><td>high risk</td></tr>\n",
       "\t<tr><th scope=row>2</th><td>35</td><td>140</td><td>90</td><td>13.00</td><td> 98</td><td>70</td><td>high risk</td></tr>\n",
       "\t<tr><th scope=row>3</th><td>29</td><td> 90</td><td>70</td><td> 8.00</td><td>100</td><td>80</td><td>high risk</td></tr>\n",
       "\t<tr><th scope=row>4</th><td>30</td><td>140</td><td>85</td><td> 7.00</td><td> 98</td><td>70</td><td>high risk</td></tr>\n",
       "\t<tr><th scope=row>5</th><td>35</td><td>120</td><td>60</td><td> 6.10</td><td> 98</td><td>76</td><td>low risk </td></tr>\n",
       "\t<tr><th scope=row>6</th><td>23</td><td>140</td><td>80</td><td> 7.01</td><td> 98</td><td>70</td><td>high risk</td></tr>\n",
       "</tbody>\n",
       "</table>\n"
      ],
      "text/latex": [
       "A data.frame: 6 × 7\n",
       "\\begin{tabular}{r|lllllll}\n",
       "  & Age & SystolicBP & DiastolicBP & BS & BodyTemp & HeartRate & RiskLevel\\\\\n",
       "  & <int> & <int> & <int> & <dbl> & <dbl> & <int> & <chr>\\\\\n",
       "\\hline\n",
       "\t1 & 25 & 130 & 80 & 15.00 &  98 & 86 & high risk\\\\\n",
       "\t2 & 35 & 140 & 90 & 13.00 &  98 & 70 & high risk\\\\\n",
       "\t3 & 29 &  90 & 70 &  8.00 & 100 & 80 & high risk\\\\\n",
       "\t4 & 30 & 140 & 85 &  7.00 &  98 & 70 & high risk\\\\\n",
       "\t5 & 35 & 120 & 60 &  6.10 &  98 & 76 & low risk \\\\\n",
       "\t6 & 23 & 140 & 80 &  7.01 &  98 & 70 & high risk\\\\\n",
       "\\end{tabular}\n"
      ],
      "text/markdown": [
       "\n",
       "A data.frame: 6 × 7\n",
       "\n",
       "| <!--/--> | Age &lt;int&gt; | SystolicBP &lt;int&gt; | DiastolicBP &lt;int&gt; | BS &lt;dbl&gt; | BodyTemp &lt;dbl&gt; | HeartRate &lt;int&gt; | RiskLevel &lt;chr&gt; |\n",
       "|---|---|---|---|---|---|---|---|\n",
       "| 1 | 25 | 130 | 80 | 15.00 |  98 | 86 | high risk |\n",
       "| 2 | 35 | 140 | 90 | 13.00 |  98 | 70 | high risk |\n",
       "| 3 | 29 |  90 | 70 |  8.00 | 100 | 80 | high risk |\n",
       "| 4 | 30 | 140 | 85 |  7.00 |  98 | 70 | high risk |\n",
       "| 5 | 35 | 120 | 60 |  6.10 |  98 | 76 | low risk  |\n",
       "| 6 | 23 | 140 | 80 |  7.01 |  98 | 70 | high risk |\n",
       "\n"
      ],
      "text/plain": [
       "  Age SystolicBP DiastolicBP BS    BodyTemp HeartRate RiskLevel\n",
       "1 25  130        80          15.00  98      86        high risk\n",
       "2 35  140        90          13.00  98      70        high risk\n",
       "3 29   90        70           8.00 100      80        high risk\n",
       "4 30  140        85           7.00  98      70        high risk\n",
       "5 35  120        60           6.10  98      76        low risk \n",
       "6 23  140        80           7.01  98      70        high risk"
      ]
     },
     "metadata": {},
     "output_type": "display_data"
    }
   ],
   "source": [
    "temp <- tempfile()\n",
    "download.file(\"https://archive.ics.uci.edu/static/public/863/maternal+health+risk.zip\",temp)\n",
    "maternal_original_data <- read.csv(unzip(temp, \"Maternal Health Risk Data Set.csv\"))\n",
    "unlink(temp)\n",
    "head(maternal_original_data)"
   ]
  },
  {
   "cell_type": "markdown",
   "id": "47afd6d1-72b0-4783-9310-9e7e95d2875d",
   "metadata": {},
   "source": [
    "#### reminder for codes(delete later)"
   ]
  },
  {
   "cell_type": "markdown",
   "id": "2ffe662b-ddc0-4c64-95f7-a2ea6da69fb6",
   "metadata": {},
   "source": [
    "#### Discussion"
   ]
  },
  {
   "cell_type": "markdown",
   "id": "a733da9c-a6e0-46d9-a2b2-0997568f75a4",
   "metadata": {},
   "source": [
    "#### Reference"
   ]
  }
 ],
 "metadata": {
  "kernelspec": {
   "display_name": "R",
   "language": "R",
   "name": "ir"
  },
  "language_info": {
   "codemirror_mode": "r",
   "file_extension": ".r",
   "mimetype": "text/x-r-source",
   "name": "R",
   "pygments_lexer": "r",
   "version": "4.2.2"
  }
 },
 "nbformat": 4,
 "nbformat_minor": 5
}
