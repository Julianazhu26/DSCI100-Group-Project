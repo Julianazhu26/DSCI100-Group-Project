{
 "cells": [
  {
   "cell_type": "markdown",
   "id": "3ce08e39-9243-49b2-81b6-a3429eca25d7",
   "metadata": {},
   "source": [
    "shareoij\n"
   ]
  }
 ],
 "metadata": {
  "kernelspec": {
   "display_name": "R",
   "language": "R",
   "name": "ir"
  },
  "language_info": {
   "codemirror_mode": "r",
   "file_extension": ".r",
   "mimetype": "text/x-r-source",
   "name": "R",
   "pygments_lexer": "r",
   "version": "4.2.2"
  }
 },
 "nbformat": 4,
 "nbformat_minor": 5
}
