{
 "cells": [
  {
   "cell_type": "markdown",
   "id": "3ce08e39-9243-49b2-81b6-a3429eca25d7",
   "metadata": {},
   "source": []
  },
  {
   "cell_type": "code",
   "execution_count": null,
   "id": "739c834d-ae7f-40ac-9f3c-e86e0d3da259",
   "metadata": {},
   "outputs": [],
   "source": [
    "jiojoi\n"
   ]
  }
 ],
 "metadata": {
  "kernelspec": {
   "display_name": "R",
   "language": "R",
   "name": "ir"
  },
  "language_info": {
   "codemirror_mode": "r",
   "file_extension": ".r",
   "mimetype": "text/x-r-source",
   "name": "R",
   "pygments_lexer": "r",
   "version": "4.2.2"
  }
 },
 "nbformat": 4,
 "nbformat_minor": 5
}
