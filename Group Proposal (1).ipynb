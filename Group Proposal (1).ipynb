{
 "cells": [
  {
   "cell_type": "markdown",
   "id": "08cc42d0-643a-495e-b41b-cba8ab4c4319",
   "metadata": {
    "tags": []
   },
   "source": [
    "# Maternal Health Risk Assessment: A Comprehensive Model of Predictive Factors\n",
    "\n",
    "\n",
    "\n",
    "#### Introduction:\n",
    "\n",
    "\n",
    "Maternal mortality is a major concern for the UN's sustainable development goals, with already 287,000 women dying in 2020. A predictive model can help identify high-risk patients, enabling healthcare providers to allocate resources more effectively, enhancing the likelihood of successful outcomes for both mothers and babies.\n",
    "\n",
    "Can we determine whether a pregnant woman faces low, medium, or high maternal health risk, thereby contributing to improved maternal health outcomes and a reduction in maternal mortality rates?\n",
    "\n",
    "We will be using a dataset that has been collected from 1013 pregnant women from different hospitals, clinics, and maternal health care in the rural areas of Bangladesh. This data has columns for: age, systolic blood pressure, diastolic blood pressure, blood glucose, body temperature, and heart rate."
   ]
  },
  {
   "cell_type": "markdown",
   "id": "9697e33a-7597-48ff-9f4d-2b8d0b48f144",
   "metadata": {
    "tags": []
   },
   "source": [
    "#### Preliminary exploratory data analysis:\n",
    "We are reading the dataset from UCI Machine Learning Repository from the Web to R with the following steps. In summary, we need to download the file, unzip, give it a new name and read the first 6 rows. "
   ]
  },
  {
   "cell_type": "markdown",
   "id": "daf3e6d9-f7ca-4275-a5e4-7a60fac861be",
   "metadata": {
    "tags": []
   },
   "source": [
    "#### Methods:\n",
    "\n",
    "Based on the data analysis, it has become apparent that the temperature variable does not significantly contribute to distinguishing between high, medium and low-risk patients. The temperature remains within the same range for all risk groups. Therefore, it would be misleading to consider temperature as a crucial factor in determining whether a pregnant woman is at high/medium/low risk.\n",
    "\n",
    "To visualize the distribution of each quantitative variable and its relationship with the target predictive variable, RiskLevel, we created histograms for each variable. Additionally, we used different colors to represent the 3 levels of the RiskLevel variable. \n"
   ]
  },
  {
   "cell_type": "markdown",
   "id": "fd9d72e8-5030-4dd8-93dd-ad296971fe11",
   "metadata": {},
   "source": [
    "#### Step 1: Loading dataset from the web"
   ]
  },
  {
   "cell_type": "code",
   "execution_count": null,
   "id": "863e7333-a2ac-42c7-93dc-b1c3dd686964",
   "metadata": {
    "tags": []
   },
   "outputs": [],
   "source": [
    "## reading the data into R\n",
    "temp <- tempfile()\n",
    "download.file(\"https://archive.ics.uci.edu/static/public/863/maternal+health+risk.zip\",temp)\n",
    "maternal_original_data <- read.csv(unzip(temp, \"Maternal Health Risk Data Set.csv\"))\n",
    "unlink(temp)\n",
    "head(maternal_original_data)"
   ]
  },
  {
   "cell_type": "code",
   "execution_count": null,
   "id": "14f5171c-6170-4b65-ae36-335fe1e72b36",
   "metadata": {},
   "outputs": [],
   "source": [
    "# no NA value within the data\n",
    "\n",
    "has_na <- any(is.na(maternal_original_data))\n",
    "has_na"
   ]
  },
  {
   "cell_type": "markdown",
   "id": "f21bb026-b211-4db1-a817-a2a700cd7989",
   "metadata": {
    "tags": []
   },
   "source": [
    "### Summary of the original data before wrangling\n",
    "\n",
    "Interpretation of each columns:\n",
    "- **Age**: Age in years\n",
    "- **SystolicBP**: Systolic blood pressure(measures the pressure in arteries when heart beats in mmHg)\n",
    "- **DiastolicBP**: Diastolic blood pressure(measure the pressure in arteries when heart rests between beats in mmHg)\n",
    "- **BS**: Blood Glucose Level(in terms of a molar concentration in mmol/L)\n",
    "- **BodyTemp**: Body temperature measured in Fahrenheit \n",
    "- **HearRate**: Heart rate(normal resting heart rate in bpm)\n",
    "- **RiskLevel**: Predicted risk intensity level of maternal health during pregnancy considering all the prior attributes)\n",
    "\n",
    "Other information of the original data:\n",
    "\n",
    "- There are 1013 subjects within the whole data set.\n"
   ]
  },
  {
   "cell_type": "code",
   "execution_count": null,
   "id": "f35579c3-614a-47cb-a49e-888da28d2571",
   "metadata": {
    "tags": []
   },
   "outputs": [],
   "source": [
    "## loading the packages\n",
    "library(tidyverse)\n",
    "library(dplyr)\n",
    "library(repr)\n",
    "library(tidymodels)\n",
    "install.packages(\"kknn\")"
   ]
  },
  {
   "cell_type": "markdown",
   "id": "7a8aaf7d-6965-4c74-8e0d-9be282cbfa42",
   "metadata": {},
   "source": [
    "#### Step 2: Wrangling and cleaning"
   ]
  },
  {
   "cell_type": "code",
   "execution_count": null,
   "id": "3594375f-0207-4272-8379-40a7a85a9ecd",
   "metadata": {
    "tags": []
   },
   "outputs": [],
   "source": [
    "## Adding the Celcius column for interpretation purposes\n",
    "maternal_with_celcius <- maternal_original_data |> \n",
    "                         mutate(Celcius = (BodyTemp - 32) * 5/9 ) \n",
    "head(maternal_with_celcius)"
   ]
  },
  {
   "cell_type": "code",
   "execution_count": null,
   "id": "09a288a2-760a-47e2-a07e-6307dc0f7229",
   "metadata": {
    "tags": []
   },
   "outputs": [],
   "source": [
    "## Rename the columns \n",
    "names(maternal_with_celcius) <- c(\"Age\", \n",
    "                                  \"Systolic_Blood_Pressure\", \n",
    "                                  \"Diastolic_Blood_Pressure\", \n",
    "                                  \"Blood_Glucose\", #mmol/L\t\n",
    "                                  \"Farenheit\",\n",
    "                                  \"Heart_Beat\", #bpm\n",
    "                                  \"Risk_Level\",\n",
    "                                  \"Body_Temp_Celcius\")\n",
    "maternal_new_name <- maternal_with_celcius\n",
    "# Removing farenheit\n",
    "maternal_new_name <- select(maternal_new_name, \n",
    "                            Age, \n",
    "                            Systolic_Blood_Pressure, \n",
    "                            Diastolic_Blood_Pressure,\n",
    "                            Blood_Glucose,\n",
    "                            Heart_Beat,\n",
    "                            Risk_Level,\n",
    "                            Body_Temp_Celcius)\n",
    "head(maternal_new_name)"
   ]
  },
  {
   "cell_type": "markdown",
   "id": "aaf7aa14-ae9c-4f27-b081-7b4d03d37646",
   "metadata": {},
   "source": [
    "First, we added the Celsius column to help with understanding of the data later, and we also changed the column names so they are easier to identify. Then we removed the farenheit column because it's unnecessary now there's a Celsius column"
   ]
  },
  {
   "cell_type": "code",
   "execution_count": null,
   "id": "3a869033-8f5f-4ea2-b7e7-28f865b231ad",
   "metadata": {
    "tags": []
   },
   "outputs": [],
   "source": [
    "options(repr.plot.width = 7, repr.plot.height = 6) \n",
    "# initial visualization\n",
    "systolic_hisrogram <- ggplot(maternal_new_name, aes(x = Systolic_Blood_Pressure, fill = as_factor(Risk_Level))) +\n",
    "                     geom_histogram(alpha = 0.5, position = \"identity\") +\n",
    "                     labs(x = \"Systolic Blood Pressure\", fill = \"Risk Level\", y = \"Count\") +\n",
    "                     ggtitle(\"Level of Systolic Blood Pressure among Risk Levels\") +\n",
    "                     theme(text = element_text(size = 14))\n",
    "systolic_hisrogram\n",
    "diastolic_histogram <- ggplot(maternal_new_name, aes(x = Diastolic_Blood_Pressure, fill = as_factor(Risk_Level))) +\n",
    "                     geom_histogram(alpha = 0.5, position = \"identity\") +\n",
    "                     labs(x = \"Diastolic Blood Pressure\", fill = \"Risk Level\", y = \"Count\") +\n",
    "                     ggtitle(\"Level of Diastolic Blood Pressure among Risk Levels\") +\n",
    "                     theme(text = element_text(size = 14))\n",
    "diastolic_histogram\n",
    "bs_histogram <- ggplot(maternal_new_name, aes(x = Blood_Glucose, fill = as_factor(Risk_Level))) +\n",
    "                     geom_histogram(alpha = 0.5, position = \"identity\") +\n",
    "                     labs(x = \"Blood Glucose(mmol/L)\", fill = \"Risk Level\", y = \"Count\") +\n",
    "                     ggtitle(\"Level of Blood Glucose among Risk Levels\") +\n",
    "                     theme(text = element_text(size = 14))\n",
    "bs_histogram\n",
    "heart_beat_histogram <- ggplot(maternal_new_name, aes(x = Heart_Beat, fill = as_factor(Risk_Level))) +\n",
    "                     geom_histogram(alpha = 0.5, position = \"identity\") +\n",
    "                     labs(x = \"Heart Beat(bpm)\", fill = \"Risk Level\", y = \"Count\") +\n",
    "                     ggtitle(\"Rate of Heart Beat among Risk Levels\") +\n",
    "                     theme(text = element_text(size = 14))\n",
    "heart_beat_histogram\n",
    "age_histogram <- ggplot(maternal_new_name, aes(x = Age, fill = as_factor(Risk_Level))) +\n",
    "                     geom_histogram(alpha = 0.5, position = \"identity\") +\n",
    "                     labs(x = \"Age\", fill = \"Risk Level\", y = \"Count\") +\n",
    "                     ggtitle(\"Age among Risk Levels\") +\n",
    "                     theme(text = element_text(size = 14))\n",
    "age_histogram\n",
    "celsius_histogram <- ggplot(maternal_new_name, aes(x = Body_Temp_Celcius, fill = as_factor(Risk_Level))) +\n",
    "                     geom_histogram(alpha = 0.5, position = \"identity\") +\n",
    "                     labs(x = \"Body Temp in Celcius\", fill = \"Risk Level\", y = \"Count\") +\n",
    "                     ggtitle(\"Body Temperature among Risk Levels\") +\n",
    "                     theme(text = element_text(size = 14))\n",
    "celsius_histogram"
   ]
  },
  {
   "cell_type": "markdown",
   "id": "fc20d5b2-1349-4a64-88e0-8b4df87b8a2f",
   "metadata": {},
   "source": [
    "From the above visualizations, we can conclude a few things:\n",
    "1. Temperature is not worth using as a predictor because the distribution of different risk levels remain about the same for those small changes within the temperature. The overall temperature also remained within the normal range around 36 to 39 degrees. It's also extremely right skewed meaning majority of the women had a normal temperature in this data set, therefore, it will be misleading to use temperature as a predictor for the prediction. \n",
    "2. Blood glucose, age and systolic and diastolic blood pressure are 4 predictors that visually seem especially important to the prediction because as both four variables increase, high risk level starts to appear more often. \n",
    "3. Although heart beat doesn't show as clear of a trend as the other predictors, there still seem to have a connection between heart beat and risk level because the risk level does increase as heart beat increases.\n",
    "In conclusion, after examining the initial visualizations, we determine to use **age**, **systolic blood pressure**, **diastolic blood pressure**, **blood glucose**, and **heart beat** as predictors."
   ]
  },
  {
   "cell_type": "code",
   "execution_count": null,
   "id": "ac06d6c3-6cc5-48f3-b5f6-ce1217af99fb",
   "metadata": {},
   "outputs": [],
   "source": [
    "## Delete body temperature column\n",
    "maternal_final <- maternal_new_name |>\n",
    "                  select(Age,Systolic_Blood_Pressure,Diastolic_Blood_Pressure,\n",
    "                         Blood_Glucose, Heart_Beat, Risk_Level) |>\n",
    "                  mutate(Risk_Level = as_factor(Risk_Level))\n",
    "head(maternal_final)"
   ]
  },
  {
   "cell_type": "code",
   "execution_count": null,
   "id": "5ef2b98f-7ea0-4d28-a65a-42ef3e2f6667",
   "metadata": {},
   "outputs": [],
   "source": [
    "cancer_plot <- ggplot(cancer, aes(x = Symmetry, y = Radius)) +\n",
    "                geom_point(aes(color = Class)) +\n",
    "                labs(x = \"Standardized Symmetry\", y = \"Standardized Radius\", color = \"Class\") +\n",
    "                theme(text = element_text(size = 20))"
   ]
  },
  {
   "cell_type": "markdown",
   "id": "11209e65-56ae-4167-a994-437ace1cf049",
   "metadata": {},
   "source": [
    "After cleaning the data by getting rid of unnecessary columns, we will set seeds and split the data to prepare with the classification process."
   ]
  },
  {
   "cell_type": "code",
   "execution_count": null,
   "id": "505f9b5b-1b45-4e8a-9f01-ef6fc5d6562c",
   "metadata": {},
   "outputs": [],
   "source": [
    "## Setting seed and splitting data into trianing set and testing set \n",
    "set.seed(10)\n",
    "maternal_split <- initial_split(maternal_final, prop = 0.75, strata = Risk_Level)\n",
    "maternal_train <- training(maternal_split)\n",
    "maternal_test <- testing(maternal_split) \n",
    "glimpse(maternal_train)\n",
    "glimpse(maternal_test)"
   ]
  },
  {
   "cell_type": "markdown",
   "id": "ff904e00-802b-4116-be96-1ba18e40f649",
   "metadata": {},
   "source": [
    "#### Step 4: Finding optimal k"
   ]
  },
  {
   "cell_type": "code",
   "execution_count": null,
   "id": "1a645674-a1ce-45f8-adda-9e36dca01391",
   "metadata": {
    "tags": []
   },
   "outputs": [],
   "source": [
    "# recipe for training data\n",
    "maternal_recipe <- recipe(Risk_Level ~.,\n",
    "                          data = maternal_train) |>\n",
    "                   step_scale(all_predictors()) |>\n",
    "                   step_center(all_predictors())\n",
    "maternal_recipe"
   ]
  },
  {
   "cell_type": "code",
   "execution_count": null,
   "id": "d758c534-8266-43a3-b9c9-13de276925e3",
   "metadata": {
    "tags": []
   },
   "outputs": [],
   "source": [
    "# model for training data \n",
    "maternal_spec <- nearest_neighbor(weight_fun = \"rectangular\", neighbors = tune()) |>\n",
    "                 set_engine(\"kknn\") |>\n",
    "                 set_mode(\"classification\")\n",
    "maternal_spec"
   ]
  },
  {
   "cell_type": "code",
   "execution_count": null,
   "id": "710f6d62-2f25-406e-82cd-1df75b4914ed",
   "metadata": {
    "tags": []
   },
   "outputs": [],
   "source": [
    "# creating v folds for traning data \n",
    "maternal_vfold_10 <- vfold_cv(maternal_train, v = 10, strata = Risk_Level)\n",
    "\n",
    "# data frame that contains sequence of K values\n",
    "maternal_k_vals <- tibble(neighbors = seq(from = 1, to = 70, by = 1))"
   ]
  },
  {
   "cell_type": "markdown",
   "id": "5627a29f-9dd8-4d51-9d82-f7d5e159edbe",
   "metadata": {},
   "source": [
    "We starts finding the optimal K by creating a recipe with all the necessary predictors, a model for classification. Next, we decides to first try 10 folds because we have a relatively big size of data, and we kept the range of k values around 1/3 of the amount within training set. "
   ]
  },
  {
   "cell_type": "code",
   "execution_count": null,
   "id": "cd448326-1e70-430c-8d3e-c35a63fdd7b5",
   "metadata": {
    "tags": []
   },
   "outputs": [],
   "source": [
    "# fitting the model\n",
    "maternal_first_workflow <- workflow () |>\n",
    "                           add_recipe(maternal_recipe) |>\n",
    "                           add_model(maternal_spec) |>\n",
    "                           tune_grid(resamples = maternal_vfold_10, grid = maternal_k_vals) |>\n",
    "                           collect_metrics()\n",
    "                        \n",
    "head(maternal_first_workflow)"
   ]
  },
  {
   "cell_type": "code",
   "execution_count": null,
   "id": "2dcd2a49-ad03-4611-af81-9c8d525ccba5",
   "metadata": {
    "tags": []
   },
   "outputs": [],
   "source": [
    "# getting only the accuracies\n",
    "accuracies <- maternal_first_workflow |>\n",
    "             filter(.metric == \"accuracy\")\n",
    "\n",
    "# accuracy plot\n",
    "accuracy_plot <- ggplot(accuracies, aes(x = neighbors, y = mean)) +\n",
    "                geom_point() +\n",
    "                geom_line() +\n",
    "                labs(x = \"Neighbors\", y = \"Accuracy Estimate\")\n",
    "accuracy_plot"
   ]
  },
  {
   "cell_type": "markdown",
   "id": "ce2c43c6-972b-459d-80b5-abc4250d2003",
   "metadata": {},
   "source": [
    "From this plot, it's clear that the amount of neighbor we need will be very relatively small, therefore we made a second plot with less neighbors to get a better read of the amount of k we need."
   ]
  },
  {
   "cell_type": "code",
   "execution_count": null,
   "id": "e1f57682-e1a1-4692-93f1-7cbbcff5e68e",
   "metadata": {
    "tags": []
   },
   "outputs": [],
   "source": [
    "# new k values\n",
    "maternal_k <- tibble(neighbors = seq(from = 1, to = 10, by = 1))\n",
    "\n",
    "# fitting the newer model\n",
    "maternal_new_workflow <- workflow () |>\n",
    "                           add_recipe(maternal_recipe) |>\n",
    "                           add_model(maternal_spec) |>\n",
    "                           tune_grid(resamples = maternal_vfold_10, grid = maternal_k) |>\n",
    "                           collect_metrics()\n",
    "head(maternal_new_workflow)\n",
    "\n",
    "# getting only the accuracies\n",
    "accuracy <- maternal_new_workflow |>\n",
    "             filter(.metric == \"accuracy\")\n",
    "\n",
    "# accuracy plot\n",
    "accuracy_plot_2 <- ggplot(accuracy, aes(x = neighbors, y = mean)) +\n",
    "                geom_point() +\n",
    "                geom_line() +\n",
    "                labs(x = \"Neighbors\", y = \"Accuracy Estimate\") +\n",
    "                scale_x_continuous(breaks = seq(0, 14, by = 1)) +\n",
    "                scale_y_continuous(limits = c(0.4, 1.0))\n",
    "accuracy_plot_2"
   ]
  },
  {
   "cell_type": "markdown",
   "id": "6c2cd3b1-0cad-4cae-a73d-dc5f58e29ff9",
   "metadata": {},
   "source": [
    "After tuning the grid, filtering out the accuracy and plotting out the elbow plot. We've determined that k = # would provide the highest accuracy."
   ]
  },
  {
   "cell_type": "markdown",
   "id": "71ca1669-58f3-48c4-a694-4ea9e894de8c",
   "metadata": {
    "tags": []
   },
   "source": [
    "#### Step 5: Final model"
   ]
  },
  {
   "cell_type": "code",
   "execution_count": null,
   "id": "dfdfd3d4-184b-435d-9980-73a89b0f5a0e",
   "metadata": {},
   "outputs": [],
   "source": [
    "# new model\n",
    "maternal_final_spec <- nearest_neighbor(weight_func = \"rectangular\", neighbors = 1) |>\n",
    "                       set_engine(\"kknn\") |>\n",
    "                       set_mode(\"classification\")\n",
    "\n",
    "# new workflow\n",
    "maternal_final_workflow <- workflow() |>\n",
    "                           add_recipe(maternal_recipe) |>\n",
    "                           add_model(maternal_final_spec) |>\n",
    "                           fit(data = maternal_train)\n",
    "maternal_final_workflow"
   ]
  },
  {
   "cell_type": "markdown",
   "id": "ec8d5e67-b994-437a-922f-8263de1a0fb6",
   "metadata": {},
   "source": [
    "With our new k value, we created a new model and fit it again for the final workflow to use in predictions of the test data set."
   ]
  },
  {
   "cell_type": "code",
   "execution_count": null,
   "id": "79f955ec-ed7c-4fa1-b76d-83eec6b90af7",
   "metadata": {},
   "outputs": [],
   "source": [
    "# predicting testing data\n",
    "maternal_predict <- predict(maternal_final_workflow, maternal_test) |>\n",
    "                    bind_cols(maternal_test)\n",
    "head(maternal_predict)"
   ]
  },
  {
   "cell_type": "code",
   "execution_count": null,
   "id": "9c47a7cd-f506-48b3-a183-fcab8442a628",
   "metadata": {},
   "outputs": [],
   "source": [
    "# assessing classifier's performance\n",
    "maternal_metrics <- maternal_predict |>\n",
    "                    metrics(truth = Risk_Level, estimate = .pred_class) |>\n",
    "                    filter(.metric == \"accuracy\")\n",
    "maternal_metrics"
   ]
  },
  {
   "cell_type": "code",
   "execution_count": null,
   "id": "1107c09b-39ec-40e5-b5f1-fce2b7036443",
   "metadata": {},
   "outputs": [],
   "source": [
    "# producing the confusion matrix\n",
    "maternal_matrix <- maternal_predict |>\n",
    "                   conf_mat(truth = Risk_Level, estimate = .pred_class)\n",
    "maternal_matrix"
   ]
  },
  {
   "cell_type": "markdown",
   "id": "23f7230c-d6c8-4a71-a444-990b5208147b",
   "metadata": {},
   "source": [
    "CONFUSION MATRIX ANALYSIS IMPORTANT!!!"
   ]
  },
  {
   "cell_type": "code",
   "execution_count": null,
   "id": "9480d693-0e1e-41e1-a2de-30c80c71e477",
   "metadata": {
    "tags": []
   },
   "outputs": [],
   "source": [
    "maternal_final"
   ]
  },
  {
   "cell_type": "code",
   "execution_count": null,
   "id": "6830215e-4d5c-45d7-aab4-2101052b061c",
   "metadata": {},
   "outputs": [],
   "source": [
    "plot_age_vs_blood_glucose <- ggplot(maternal_final, aes(x = Age, y = Blood_Glocose, color = Risk_Level)) +\n",
    "                            geom_point(alpha = 0.5) +\n",
    "                            labs(color = \"Risk Level\") +\n",
    "                            ggtitle(\"Scatter plot of Age versus Blood Glocose colored by risk level\") +\n",
    "                            theme(text = element_text(size = 12))"
   ]
  },
  {
   "cell_type": "markdown",
   "id": "d23c31ad-179b-4364-a529-c4f62262c712",
   "metadata": {},
   "source": [
    "#### Expected outcomes and significance:\n",
    "\n",
    "- Expected Findings:\n",
    "  \n",
    "Multifactorial Nature of Risk: The multifactorial nature of maternal health risks suggests that multiple variables collectively contribute to the overall risk assessment, highlighting that no single factor holds all the weight in determining risk.\n",
    "Identifying correlations and associations: Variables like blood pressure, body temperature, and blood sugar levels positively impact risk assessment, with older mothers having higher maternity risk.\n",
    "\n",
    "- Impact of Findings:\n",
    "\n",
    "The analysis of variables and expected risk in the maternal health dataset can significantly influence maternal healthcare, healthcare policy, and public health initiatives.\n",
    "1) Preventive Health Education: Understanding risk factors can aid in creating health education programs promoting healthy lifestyle choices, including prenatal care, diet-related risk reduction, and general health practices among pregnant women.\n",
    "2) Evidence-Based Policy Formulation: The findings could guide the development of evidence-based policies in maternal healthcare, aiming to reduce maternal health risk factors.\n",
    "3) Research and Innovation: The findings could drive further research and innovation in maternal health, focusing on developing novel diagnostic tools, therapeutic interventions, and preventive measures to address identified risk factors, thereby improving treatment options and health outcomes for pregnant women.\n",
    "\n",
    "- Future Questions:\n",
    "  \n",
    "1) Personalized Care Plans: How can the insights from the predictive model be used to create personalized care plans for pregnant women, considering their individual health profiles? \n",
    "2) Monitoring and Evaluation: How can the model be integrated into the monitoring and evaluation system to identify high-risk expecting mothers and ensure frequent monitoring to enhance maternal health outcomes?"
   ]
  },
  {
   "cell_type": "markdown",
   "id": "c80da176-b24d-45c2-af52-98621207f63d",
   "metadata": {},
   "source": [
    "#### References Used:\n",
    "\n",
    "Ahmed,Marzia. (2023). Maternal Health Risk. UCI Machine Learning Repository. https://doi.org/10.24432/C5DP5D."
   ]
  }
 ],
 "metadata": {
  "kernelspec": {
   "display_name": "R",
   "language": "R",
   "name": "ir"
  },
  "language_info": {
   "codemirror_mode": "r",
   "file_extension": ".r",
   "mimetype": "text/x-r-source",
   "name": "R",
   "pygments_lexer": "r",
   "version": "4.2.2"
  }
 },
 "nbformat": 4,
 "nbformat_minor": 5
}
